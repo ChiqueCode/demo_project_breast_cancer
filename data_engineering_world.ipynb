{
 "cells": [
  {
   "cell_type": "code",
   "execution_count": 1,
   "metadata": {},
   "outputs": [],
   "source": [
    "# Import dependencies\n",
    "import pandas as pd\n",
    "import os\n",
    "\n",
    "# Python SQL toolkit and Object Relational Mapper\n",
    "import sqlalchemy\n",
    "from sqlalchemy.orm import Session\n",
    "from sqlalchemy import create_engine, inspect, func\n",
    "\n",
    "# Import modules to declare columns and column data types\n",
    "from sqlalchemy import Column, Integer, String, Float\n",
    "\n",
    "# Import and establish Base for which classes will be constructed \n",
    "from sqlalchemy.ext.declarative import declarative_base"
   ]
  },
  {
   "cell_type": "code",
   "execution_count": 2,
   "metadata": {},
   "outputs": [],
   "source": [
    "# Pull in original cancer data csv from https://www.gapminder.org/data/ and convert to dataframes\n",
    "cancer_mortality_df = pd.read_csv(os.path.join('datasets', 'breast_mortality_global_crude.csv'))\n",
    "cancer_new_df = pd.read_csv(os.path.join('datasets', 'breast_new_cases_global_crude.csv'))"
   ]
  },
  {
   "cell_type": "markdown",
   "metadata": {},
   "source": [
    "## Clean Mortality Data"
   ]
  },
  {
   "cell_type": "code",
   "execution_count": 3,
   "metadata": {},
   "outputs": [
    {
     "data": {
      "text/plain": [
       "country      0\n",
       "1950       177\n",
       "1951       170\n",
       "1952       168\n",
       "1953       167\n",
       "1954       167\n",
       "1955       159\n",
       "1956       159\n",
       "1957       158\n",
       "1958       158\n",
       "1959       157\n",
       "1960       155\n",
       "1961       151\n",
       "1962       152\n",
       "1963       147\n",
       "1964       146\n",
       "1965       148\n",
       "1966       145\n",
       "1967       145\n",
       "1968       141\n",
       "1969       142\n",
       "1970       143\n",
       "1971       144\n",
       "1972       142\n",
       "1973       142\n",
       "1974       141\n",
       "1975       139\n",
       "1976       141\n",
       "1977       138\n",
       "1978       140\n",
       "          ... \n",
       "1987       119\n",
       "1988       121\n",
       "1989       121\n",
       "1990         3\n",
       "1991         3\n",
       "1992         2\n",
       "1993         1\n",
       "1994         1\n",
       "1995         1\n",
       "1996         0\n",
       "1997         0\n",
       "1998         0\n",
       "1999         0\n",
       "2000         0\n",
       "2001         0\n",
       "2002         0\n",
       "2003         0\n",
       "2004         0\n",
       "2005         0\n",
       "2006         0\n",
       "2007         0\n",
       "2008         0\n",
       "2009         0\n",
       "2010         0\n",
       "2011         0\n",
       "2012         0\n",
       "2013         0\n",
       "2014         0\n",
       "2015         0\n",
       "2016         0\n",
       "Length: 68, dtype: int64"
      ]
     },
     "execution_count": 3,
     "metadata": {},
     "output_type": "execute_result"
    }
   ],
   "source": [
    "# Check columns for missing data\n",
    "cancer_mortality_df.isnull().sum()"
   ]
  },
  {
   "cell_type": "code",
   "execution_count": 4,
   "metadata": {},
   "outputs": [],
   "source": [
    "# Delete columns for years we have missing data for\n",
    "cancer_mortality_df = cancer_mortality_df.drop(cancer_mortality_df.loc[:, '1950':'1995'].columns, axis = 1)"
   ]
  },
  {
   "cell_type": "code",
   "execution_count": 5,
   "metadata": {},
   "outputs": [
    {
     "data": {
      "text/plain": [
       "country     object\n",
       "1996       float64\n",
       "1997       float64\n",
       "1998       float64\n",
       "1999       float64\n",
       "2000       float64\n",
       "2001       float64\n",
       "2002       float64\n",
       "2003       float64\n",
       "2004       float64\n",
       "2005       float64\n",
       "2006       float64\n",
       "2007       float64\n",
       "2008       float64\n",
       "2009       float64\n",
       "2010       float64\n",
       "2011       float64\n",
       "2012       float64\n",
       "2013       float64\n",
       "2014       float64\n",
       "2015       float64\n",
       "2016       float64\n",
       "dtype: object"
      ]
     },
     "execution_count": 5,
     "metadata": {},
     "output_type": "execute_result"
    }
   ],
   "source": [
    "# Verify data are of correct type\n",
    "cancer_mortality_df.dtypes"
   ]
  },
  {
   "cell_type": "markdown",
   "metadata": {},
   "source": [
    "## Clean New Cases data"
   ]
  },
  {
   "cell_type": "code",
   "execution_count": 6,
   "metadata": {},
   "outputs": [
    {
     "data": {
      "text/plain": [
       "country      1\n",
       "1953       185\n",
       "1954       185\n",
       "1955       185\n",
       "1956       185\n",
       "1957       185\n",
       "1958       183\n",
       "1959       183\n",
       "1960       183\n",
       "1961       183\n",
       "1962       183\n",
       "1963       182\n",
       "1964       182\n",
       "1965       182\n",
       "1966       182\n",
       "1967       182\n",
       "1968       180\n",
       "1969       180\n",
       "1970       180\n",
       "1971       180\n",
       "1972       180\n",
       "1973       180\n",
       "1974       180\n",
       "1975       180\n",
       "1976       180\n",
       "1977       180\n",
       "1978       180\n",
       "1979       180\n",
       "1980       179\n",
       "1981       179\n",
       "          ... \n",
       "1987       176\n",
       "1988       176\n",
       "1989       176\n",
       "1990         0\n",
       "1991         0\n",
       "1992         0\n",
       "1993         0\n",
       "1994         0\n",
       "1995         0\n",
       "1996         0\n",
       "1997         0\n",
       "1998         0\n",
       "1999         0\n",
       "2000         0\n",
       "2001         0\n",
       "2002         0\n",
       "2003         0\n",
       "2004         0\n",
       "2005         0\n",
       "2006         0\n",
       "2007         0\n",
       "2008         0\n",
       "2009         0\n",
       "2010         0\n",
       "2011         0\n",
       "2012         0\n",
       "2013         0\n",
       "2014         0\n",
       "2015         0\n",
       "2016         0\n",
       "Length: 65, dtype: int64"
      ]
     },
     "execution_count": 6,
     "metadata": {},
     "output_type": "execute_result"
    }
   ],
   "source": [
    "# Check columns for missing data\n",
    "cancer_new_df.isnull().sum()"
   ]
  },
  {
   "cell_type": "code",
   "execution_count": 7,
   "metadata": {},
   "outputs": [],
   "source": [
    "# For consistency, delete columns that have missing mortality data\n",
    "cancer_new_df = cancer_new_df.drop(cancer_new_df.loc[:, '1953':'1995'].columns, axis = 1)"
   ]
  },
  {
   "cell_type": "code",
   "execution_count": 8,
   "metadata": {},
   "outputs": [
    {
     "data": {
      "text/plain": [
       "country     object\n",
       "1996       float64\n",
       "1997       float64\n",
       "1998       float64\n",
       "1999       float64\n",
       "2000       float64\n",
       "2001       float64\n",
       "2002       float64\n",
       "2003       float64\n",
       "2004       float64\n",
       "2005       float64\n",
       "2006       float64\n",
       "2007       float64\n",
       "2008       float64\n",
       "2009       float64\n",
       "2010       float64\n",
       "2011       float64\n",
       "2012       float64\n",
       "2013       float64\n",
       "2014       float64\n",
       "2015       float64\n",
       "2016       float64\n",
       "dtype: object"
      ]
     },
     "execution_count": 8,
     "metadata": {},
     "output_type": "execute_result"
    }
   ],
   "source": [
    "# Verify data are of correct type\n",
    "cancer_new_df.dtypes"
   ]
  },
  {
   "cell_type": "markdown",
   "metadata": {},
   "source": [
    "## Enter data into database"
   ]
  },
  {
   "cell_type": "code",
   "execution_count": 9,
   "metadata": {},
   "outputs": [],
   "source": [
    "# Define Declarative Base \n",
    "Base = declarative_base()"
   ]
  },
  {
   "cell_type": "code",
   "execution_count": 10,
   "metadata": {},
   "outputs": [],
   "source": [
    "# Creating an engine, sqlite database and connection to the engine\n",
    "engine = create_engine(\"sqlite:///cancer.sqlite\", echo=False)\n",
    "conn = engine.connect()"
   ]
  },
  {
   "cell_type": "code",
   "execution_count": 11,
   "metadata": {},
   "outputs": [],
   "source": [
    "# Create Mortality and Cases Classes\n",
    "class Mortality(Base):\n",
    "    __tablename__ = 'world_mortality'\n",
    "    id = Column(Integer, primary_key=True)\n",
    "    country = Column(String(255))\n",
    "    mortality_crude = Column(Float)\n",
    "\n",
    "class Cases(Base):\n",
    "    __tablename__ = 'world_cases_new'\n",
    "    id = Column(Integer, primary_key=True)\n",
    "    country = Column(String(255))\n",
    "    new_cases_crude = Column(Float) "
   ]
  },
  {
   "cell_type": "code",
   "execution_count": 12,
   "metadata": {},
   "outputs": [],
   "source": [
    "# Create metadata from classes\n",
    "Base.metadata.create_all(conn)"
   ]
  },
  {
   "cell_type": "code",
   "execution_count": 14,
   "metadata": {},
   "outputs": [],
   "source": [
    "# Export data from dataframes to tables in sqlite database\n",
    "cancer_mortality_df.to_sql(name='world_mortality', con=conn, if_exists='replace', index=False)\n",
    "cancer_new_df.to_sql(name='world_cases_new', con=conn, if_exists='replace', index=False)"
   ]
  },
  {
   "cell_type": "code",
   "execution_count": 15,
   "metadata": {},
   "outputs": [
    {
     "data": {
      "text/plain": [
       "['world_cases_new', 'world_mortality']"
      ]
     },
     "execution_count": 15,
     "metadata": {},
     "output_type": "execute_result"
    }
   ],
   "source": [
    "# Inspect table to verify existance\n",
    "inspector = inspect(engine)\n",
    "inspector.get_table_names()"
   ]
  },
  {
   "cell_type": "code",
   "execution_count": 16,
   "metadata": {},
   "outputs": [
    {
     "data": {
      "text/plain": [
       "[('Afghanistan', 32.1, 32.4, 32.8, 33.3, 33.9, 34.5, 34.7, 35.0, 35.5, 35.9, 36.2, 36.4, 36.6, 36.5, 36.4, 36.2, 36.0, 35.8, 35.6, 35.5, 35.4),\n",
       " ('Albania', 9.7, 10.1, 10.6, 11.2, 11.6, 11.9, 12.3, 12.8, 13.1, 13.4, 13.5, 13.4, 13.5, 13.3, 13.0, 12.8, 12.6, 12.4, 12.3, 12.2, 12.0),\n",
       " ('Algeria', 12.8, 12.6, 12.4, 12.4, 12.4, 12.4, 12.7, 12.9, 13.3, 13.9, 14.2, 14.1, 14.1, 14.2, 14.2, 14.2, 14.3, 14.3, 14.4, 14.4, 14.4),\n",
       " ('Andorra', 23.7, 22.9, 22.1, 21.4, 20.8, 20.1, 19.6, 19.1, 19.3, 18.8, 18.6, 18.4, 18.5, 18.9, 18.9, 19.1, 19.2, 19.2, 19.3, 19.4, 19.4),\n",
       " ('Angola', 19.3, 19.1, 20.1, 19.9, 19.8, 19.9, 20.0, 20.4, 20.7, 20.7, 20.9, 20.7, 20.6, 20.4, 20.1, 19.9, 19.9, 19.9, 19.8, 19.8, 19.8),\n",
       " ('Antigua and Barbuda', 22.9, 22.8, 22.5, 22.5, 23.2, 23.1, 23.1, 22.9, 22.8, 22.6, 22.3, 22.0, 21.7, 21.5, 21.7, 21.9, 22.1, 21.9, 22.6, 22.5, 22.5),\n",
       " ('Argentina', 27.9, 28.0, 27.9, 27.8, 27.7, 27.7, 27.7, 27.8, 27.4, 27.0, 26.7, 26.5, 25.9, 25.6, 25.4, 25.0, 24.8, 24.6, 24.2, 24.0, 23.8),\n",
       " ('Armenia', 28.7, 29.1, 30.5, 30.4, 29.3, 29.4, 28.6, 28.9, 28.6, 29.3, 29.6, 29.2, 30.2, 29.9, 29.5, 27.9, 26.7, 24.1, 22.8, 23.4, 22.6),\n",
       " ('Australia', 24.2, 23.7, 23.0, 22.3, 21.8, 21.5, 21.2, 20.7, 20.2, 19.7, 19.4, 19.1, 18.8, 18.6, 18.3, 18.0, 17.8, 17.5, 17.5, 17.6, 17.6),\n",
       " ('Austria', 24.9, 24.6, 24.1, 23.7, 23.4, 23.1, 22.8, 22.7, 22.2, 21.9, 21.6, 21.1, 20.8, 20.7, 20.2, 19.9, 19.8, 19.5, 19.2, 19.0, 18.8)]"
      ]
     },
     "execution_count": 16,
     "metadata": {},
     "output_type": "execute_result"
    }
   ],
   "source": [
    "# Inspect data for world_mortality table\n",
    "engine.execute('SELECT * FROM world_mortality LIMIT 10').fetchall()"
   ]
  },
  {
   "cell_type": "code",
   "execution_count": 17,
   "metadata": {},
   "outputs": [
    {
     "data": {
      "text/plain": [
       "[('Afghanistan', 30.9, 31.3, 31.6, 32.0, 32.4, 32.7, 33.0, 33.3, 33.6, 34.0, 34.2, 34.3, 34.5, 34.7, 35.0, 34.8, 34.7, 34.6, 34.5, 34.4, 34.4),\n",
       " ('Albania', 16.4, 17.0, 17.8, 18.8, 21.1, 21.9, 22.9, 24.1, 25.4, 26.9, 27.3, 27.6, 27.9, 28.3, 28.7, 28.6, 28.6, 28.6, 28.6, 28.6, 28.6),\n",
       " ('Algeria', 18.2, 18.1, 18.1, 18.0, 18.0, 18.7, 19.5, 20.3, 21.3, 22.3, 22.9, 23.6, 24.4, 25.2, 26.0, 26.8, 27.6, 28.4, 29.3, 30.2, 31.1),\n",
       " ('Andorra', 93.3, 93.1, 92.9, 92.8, 92.7, 92.5, 92.5, 92.4, 92.3, 92.4, 93.0, 93.6, 94.2, 94.9, 95.7, 96.4, 97.3, 98.1, 99.0, 99.9, 101.0),\n",
       " ('Angola', 21.8, 21.9, 21.9, 22.0, 22.0, 22.0, 21.9, 21.9, 21.9, 21.9, 21.8, 21.7, 21.6, 21.5, 21.4, 21.5, 21.6, 21.7, 21.8, 21.9, 22.0),\n",
       " ('Antigua and Barbuda', 53.2, 53.6, 54.2, 54.7, 55.3, 55.4, 55.6, 55.8, 56.1, 56.4, 56.9, 57.4, 57.9, 58.4, 59.0, 59.8, 60.7, 61.6, 62.5, 63.4, 64.4),\n",
       " ('Argentina', 56.8, 57.5, 58.3, 59.0, 59.8, 60.0, 60.3, 60.6, 60.9, 61.1, 61.3, 61.5, 61.7, 61.9, 62.1, 62.7, 63.3, 63.8, 64.4, 65.0, 65.7),\n",
       " ('Armenia', 54.6, 55.9, 57.4, 58.8, 60.4, 61.3, 62.2, 63.2, 64.2, 65.2, 66.3, 67.4, 68.5, 69.8, 71.0, 69.1, 67.3, 65.5, 63.9, 62.2, 60.7),\n",
       " ('Australia', 94.3, 95.4, 96.5, 97.6, 98.8, 98.3, 97.8, 97.3, 96.9, 96.5, 95.5, 94.5, 93.5, 92.6, 91.8, 92.2, 92.7, 93.2, 93.7, 94.2, 94.8),\n",
       " ('Austria', 87.6, 87.3, 87.0, 86.7, 86.5, 85.6, 84.8, 84.0, 83.3, 82.7, 82.0, 81.4, 80.8, 80.3, 79.7, 79.7, 79.6, 79.5, 79.5, 79.4, 79.4)]"
      ]
     },
     "execution_count": 17,
     "metadata": {},
     "output_type": "execute_result"
    }
   ],
   "source": [
    "# Inspect data for world_cases_new table\n",
    "engine.execute('SELECT * FROM world_cases_new LIMIT 10').fetchall()"
   ]
  }
 ],
 "metadata": {
  "kernelspec": {
   "display_name": "Python 3",
   "language": "python",
   "name": "python3"
  },
  "language_info": {
   "codemirror_mode": {
    "name": "ipython",
    "version": 3
   },
   "file_extension": ".py",
   "mimetype": "text/x-python",
   "name": "python",
   "nbconvert_exporter": "python",
   "pygments_lexer": "ipython3",
   "version": "3.7.1"
  }
 },
 "nbformat": 4,
 "nbformat_minor": 2
}
