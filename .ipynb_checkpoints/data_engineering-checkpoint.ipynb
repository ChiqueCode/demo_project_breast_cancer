{
 "cells": [
  {
   "cell_type": "markdown",
   "metadata": {},
   "source": [
    "                Data Engineering for \"percentage by state -> deaths and incidents count\""
   ]
  },
  {
   "cell_type": "code",
   "execution_count": 2,
   "metadata": {},
   "outputs": [],
   "source": [
    "# Dependancies\n",
    "import pandas as pd\n",
    "import os\n",
    "import csv\n",
    "\n",
    "# Python SQL toolkit and Object Relational Mapper\n",
    "import sqlalchemy\n",
    "from sqlalchemy.orm import Session\n",
    "from sqlalchemy import create_engine, inspect, func\n",
    "\n",
    "# Import modules to declare columns and column data types\n",
    "from sqlalchemy import Column, Integer, String, Float\n",
    "\n",
    "# Import and establish Base for which classes will be constructed \n",
    "from sqlalchemy.ext.declarative import declarative_base\n",
    "\n",
    "# Define Declarative Base \n",
    "Base = declarative_base()"
   ]
  },
  {
   "cell_type": "code",
   "execution_count": 3,
   "metadata": {},
   "outputs": [
    {
     "data": {
      "text/html": [
       "<div>\n",
       "<style scoped>\n",
       "    .dataframe tbody tr th:only-of-type {\n",
       "        vertical-align: middle;\n",
       "    }\n",
       "\n",
       "    .dataframe tbody tr th {\n",
       "        vertical-align: top;\n",
       "    }\n",
       "\n",
       "    .dataframe thead th {\n",
       "        text-align: right;\n",
       "    }\n",
       "</style>\n",
       "<table border=\"1\" class=\"dataframe\">\n",
       "  <thead>\n",
       "    <tr style=\"text-align: right;\">\n",
       "      <th></th>\n",
       "      <th>state</th>\n",
       "      <th>abr</th>\n",
       "      <th>lat</th>\n",
       "      <th>lng</th>\n",
       "      <th>CancerType</th>\n",
       "      <th>incidence</th>\n",
       "      <th>population</th>\n",
       "      <th>percentage_incident</th>\n",
       "      <th>prevalence</th>\n",
       "      <th>alive</th>\n",
       "      <th>year</th>\n",
       "      <th>death_count</th>\n",
       "      <th>prevalence_1_year</th>\n",
       "      <th>percentage_deaths</th>\n",
       "      <th>diff</th>\n",
       "    </tr>\n",
       "  </thead>\n",
       "  <tbody>\n",
       "    <tr>\n",
       "      <th>0</th>\n",
       "      <td>Alabama</td>\n",
       "      <td>AL</td>\n",
       "      <td>32.601011</td>\n",
       "      <td>-86.680736</td>\n",
       "      <td>Female Breast</td>\n",
       "      <td>18227</td>\n",
       "      <td>12434320</td>\n",
       "      <td>0.146586</td>\n",
       "      <td>0,15</td>\n",
       "      <td>1865148</td>\n",
       "      <td>2011-2015</td>\n",
       "      <td>3394</td>\n",
       "      <td>0,150272954</td>\n",
       "      <td>0.027295</td>\n",
       "      <td>0</td>\n",
       "    </tr>\n",
       "    <tr>\n",
       "      <th>1</th>\n",
       "      <td>Alaska</td>\n",
       "      <td>AK</td>\n",
       "      <td>61.302501</td>\n",
       "      <td>-158.775020</td>\n",
       "      <td>Female Breast</td>\n",
       "      <td>2100</td>\n",
       "      <td>1751388</td>\n",
       "      <td>0.119905</td>\n",
       "      <td>0,12</td>\n",
       "      <td>210166,56</td>\n",
       "      <td>2011-2015</td>\n",
       "      <td>310</td>\n",
       "      <td>0,120177254</td>\n",
       "      <td>0.017700</td>\n",
       "      <td>0</td>\n",
       "    </tr>\n",
       "  </tbody>\n",
       "</table>\n",
       "</div>"
      ],
      "text/plain": [
       "     state abr        lat         lng     CancerType  incidence  population  \\\n",
       "0  Alabama  AL  32.601011  -86.680736  Female Breast      18227    12434320   \n",
       "1   Alaska  AK  61.302501 -158.775020  Female Breast       2100     1751388   \n",
       "\n",
       "   percentage_incident prevalence      alive       year  death_count  \\\n",
       "0             0.146586       0,15    1865148  2011-2015         3394   \n",
       "1             0.119905       0,12  210166,56  2011-2015          310   \n",
       "\n",
       "  prevalence_1_year  percentage_deaths  diff  \n",
       "0       0,150272954           0.027295     0  \n",
       "1       0,120177254           0.017700     0  "
      ]
     },
     "execution_count": 3,
     "metadata": {},
     "output_type": "execute_result"
    }
   ],
   "source": [
    "# Read in CSV File\n",
    "df=pd.read_csv('db/percentage_by_state.csv', dtype={'Zip': 'str'})\n",
    "df.head(2)"
   ]
  },
  {
   "cell_type": "code",
   "execution_count": 6,
   "metadata": {},
   "outputs": [
    {
     "data": {
      "text/plain": [
       "(50, 15)"
      ]
     },
     "execution_count": 6,
     "metadata": {},
     "output_type": "execute_result"
    }
   ],
   "source": [
    "# Inspecting the Data\n",
    "df.shape"
   ]
  },
  {
   "cell_type": "code",
   "execution_count": 7,
   "metadata": {},
   "outputs": [
    {
     "data": {
      "text/plain": [
       "state                  0\n",
       "abr                    0\n",
       "lat                    0\n",
       "lng                    0\n",
       "CancerType             0\n",
       "incidence              0\n",
       "population             0\n",
       "percentage_incident    0\n",
       "prevalence             0\n",
       "alive                  0\n",
       "year                   0\n",
       "death_count            0\n",
       "prevalence_1_year      0\n",
       "percentage_deaths      0\n",
       "diff                   0\n",
       "dtype: int64"
      ]
     },
     "execution_count": 7,
     "metadata": {},
     "output_type": "execute_result"
    }
   ],
   "source": [
    "# Check columns for missing data\n",
    "df.isnull().sum()"
   ]
  },
  {
   "cell_type": "code",
   "execution_count": 8,
   "metadata": {},
   "outputs": [
    {
     "name": "stdout",
     "output_type": "stream",
     "text": [
      "0.017700247\n",
      "0.031030538\n"
     ]
    }
   ],
   "source": [
    "# Get min and max (for leaflet part)\n",
    "print(df['percentage_deaths'].min())\n",
    "print(df['percentage_deaths'].max())"
   ]
  },
  {
   "cell_type": "code",
   "execution_count": 9,
   "metadata": {},
   "outputs": [
    {
     "data": {
      "text/html": [
       "<div>\n",
       "<style scoped>\n",
       "    .dataframe tbody tr th:only-of-type {\n",
       "        vertical-align: middle;\n",
       "    }\n",
       "\n",
       "    .dataframe tbody tr th {\n",
       "        vertical-align: top;\n",
       "    }\n",
       "\n",
       "    .dataframe thead th {\n",
       "        text-align: right;\n",
       "    }\n",
       "</style>\n",
       "<table border=\"1\" class=\"dataframe\">\n",
       "  <thead>\n",
       "    <tr style=\"text-align: right;\">\n",
       "      <th></th>\n",
       "      <th>state</th>\n",
       "      <th>abr</th>\n",
       "      <th>lat</th>\n",
       "      <th>lng</th>\n",
       "      <th>incidence</th>\n",
       "      <th>population</th>\n",
       "      <th>percentage_incident</th>\n",
       "      <th>death_count</th>\n",
       "      <th>percentage_deaths</th>\n",
       "    </tr>\n",
       "  </thead>\n",
       "  <tbody>\n",
       "    <tr>\n",
       "      <th>0</th>\n",
       "      <td>Alabama</td>\n",
       "      <td>AL</td>\n",
       "      <td>32.601011</td>\n",
       "      <td>-86.680736</td>\n",
       "      <td>18227</td>\n",
       "      <td>12434320</td>\n",
       "      <td>0.146586</td>\n",
       "      <td>3394</td>\n",
       "      <td>0.027295</td>\n",
       "    </tr>\n",
       "    <tr>\n",
       "      <th>1</th>\n",
       "      <td>Alaska</td>\n",
       "      <td>AK</td>\n",
       "      <td>61.302501</td>\n",
       "      <td>-158.775020</td>\n",
       "      <td>2100</td>\n",
       "      <td>1751388</td>\n",
       "      <td>0.119905</td>\n",
       "      <td>310</td>\n",
       "      <td>0.017700</td>\n",
       "    </tr>\n",
       "  </tbody>\n",
       "</table>\n",
       "</div>"
      ],
      "text/plain": [
       "     state abr        lat         lng  incidence  population  \\\n",
       "0  Alabama  AL  32.601011  -86.680736      18227    12434320   \n",
       "1   Alaska  AK  61.302501 -158.775020       2100     1751388   \n",
       "\n",
       "   percentage_incident  death_count  percentage_deaths  \n",
       "0             0.146586         3394           0.027295  \n",
       "1             0.119905          310           0.017700  "
      ]
     },
     "execution_count": 9,
     "metadata": {},
     "output_type": "execute_result"
    }
   ],
   "source": [
    "# Drop unnessesary columns. NOTE: data has no Missing/NaN values\n",
    "dropped_df = df.drop(['CancerType', 'prevalence', 'alive', 'year', 'prevalence_1_year', 'diff'], axis=1)\n",
    "dropped_df.head(2)"
   ]
  },
  {
   "cell_type": "code",
   "execution_count": 10,
   "metadata": {},
   "outputs": [],
   "source": [
    "# Creating an engine, sqlite database and connection to the engine\n",
    "engine = create_engine(\"sqlite:///breast_cancer.sqlite\", echo=False)\n",
    "conn = engine.connect()"
   ]
  },
  {
   "cell_type": "code",
   "execution_count": 11,
   "metadata": {},
   "outputs": [],
   "source": [
    "# Creating a Class & table \n",
    "class Percentage(Base):\n",
    "    __tablename__ = 'states_percentage_table'\n",
    "    id = Column(Integer, primary_key=True)\n",
    "    state = Column(String(255))\n",
    "    abr = Column(String(255))\n",
    "    lat = Column(Float)\n",
    "    lng = Column(Float)\n",
    "    incidence = Column(Float)\n",
    "    population = Column(Float)\n",
    "    percentage_incident = Column(Float)\n",
    "    death_count = Column(Float)\n",
    "    percentage_deaths = Column(Float)   "
   ]
  },
  {
   "cell_type": "code",
   "execution_count": 12,
   "metadata": {},
   "outputs": [],
   "source": [
    "Base.metadata.create_all(conn)"
   ]
  },
  {
   "cell_type": "code",
   "execution_count": 11,
   "metadata": {},
   "outputs": [],
   "source": [
    "# Transferring the data from dataframe to the sqlite db\n",
    "dropped_df.to_sql(name='states_percentage_table', con=conn, if_exists='append', index=False)"
   ]
  },
  {
   "cell_type": "code",
   "execution_count": 12,
   "metadata": {},
   "outputs": [
    {
     "data": {
      "text/plain": [
       "['states_percentage_table']"
      ]
     },
     "execution_count": 12,
     "metadata": {},
     "output_type": "execute_result"
    }
   ],
   "source": [
    "# Inspecting the Table to make sure the table is there\n",
    "inspector = inspect(engine)\n",
    "inspector.get_table_names()"
   ]
  },
  {
   "cell_type": "code",
   "execution_count": 13,
   "metadata": {},
   "outputs": [
    {
     "data": {
      "text/plain": [
       "[(1, 'Alabama', 'AL', 32.601011199999995, -86.6807365, 18227.0, 12434320.0, 0.14658622300000002, 3394.0, 0.027295421),\n",
       " (2, 'Alaska', 'AK', 61.3025006, -158.7750198, 2100.0, 1751388.0, 0.11990489800000001, 310.0, 0.017700247),\n",
       " (3, 'Arizona', 'AZ', 34.1682185, -111.930907, 22214.0, 16686987.0, 0.133121695, 3957.0, 0.023713089),\n",
       " (4, 'Arkansas', 'AR', 34.7519275, -92.13137840000002, 10399.0, 7527040.0, 0.138155238, 2050.0, 0.027235142),\n",
       " (5, 'California', 'CA', 37.2718745, -119.2704153, 128452.0, 96473279.0, 0.13314775, 22033.0, 0.022838447999999997),\n",
       " (6, 'Colorado', 'CO', 38.9979339, -105.55056699999999, 17933.0, 13143731.0, 0.136437668, 2796.0, 0.021272499),\n",
       " (7, 'Connecticut', 'CT', 41.518783500000005, -72.75750699999999, 16000.0, 9201326.0, 0.17388798100000002, 2288.0, 0.024865981000000002),\n",
       " (8, 'Delaware', 'DE', 39.145251, -75.41892059999999, 3994.0, 2387966.0, 0.16725531300000002, 672.0, 0.028141104),\n",
       " (9, 'District of C', 'DC', 38.899348700000004, -77.0145666, 2350.0, 1700582.0, 0.138187985, 509.0, 0.02993093),\n",
       " (10, 'Florida', 'FL', 27.9757279, -83.8330166, 77149.0, 50178974.0, 0.153747663, 14200.0, 0.028298705),\n",
       " (11, 'Georgia', 'GA', 32.6781248, -83.22297569999999, 34871.0, 25602013.0, 0.136204134, 6135.0, 0.023962959),\n",
       " (12, 'Hawaii', 'HI', 20.46, -157.505, 5783.0, 3495512.0, 0.16544071400000002, 721.0, 0.020626448999999998),\n",
       " (13, 'Idaho', 'ID', 45.4945756, -114.1424303, 5487.0, 4031377.0, 0.13610734, 941.0, 0.023341900000000002),\n",
       " (14, 'Indiana', 'IN', 39.7662195, -86.441277, 23676.0, 32741282.0, 0.07231237900000001, 8923.0, 0.027253056),\n",
       " (15, 'Iowa', 'IA', 41.878, -93.0977, 11646.0, 16660636.0, 0.069901293, 4361.0, 0.026175471000000002),\n",
       " (16, 'Kansas', 'KS', 38.4987789, -98.32007790000002, 10459.0, 7786515.0, 0.134321966, 1996.0, 0.025634061),\n",
       " (17, 'Kentucky', 'KY', 37.8222935, -85.76823990000001, 16853.0, 7266752.0, 0.231919295, 1806.0, 0.024852918999999998),\n",
       " (18, 'Louisiana', 'LA', 30.9843, -91.9623, 16703.0, 11162177.0, 0.14963926800000002, 3016.0, 0.027019819),\n",
       " (19, 'Maine', 'ME', 45.2185133, -69.0148656, 5805.0, 11806691.0, 0.049167036, 3256.0, 0.027577583),\n",
       " (20, 'Maryland', 'MD', 38.806352399999994, -77.2684162, 23620.0, 3390025.0, 0.6967500240000001, 900.0, 0.026548477)]"
      ]
     },
     "execution_count": 13,
     "metadata": {},
     "output_type": "execute_result"
    }
   ],
   "source": [
    "# Checking the data \n",
    "engine.execute('SELECT * FROM states_percentage_table LIMIT 20').fetchall()"
   ]
  },
  {
   "cell_type": "code",
   "execution_count": 18,
   "metadata": {},
   "outputs": [
    {
     "data": {
      "text/html": [
       "<div>\n",
       "<style scoped>\n",
       "    .dataframe tbody tr th:only-of-type {\n",
       "        vertical-align: middle;\n",
       "    }\n",
       "\n",
       "    .dataframe tbody tr th {\n",
       "        vertical-align: top;\n",
       "    }\n",
       "\n",
       "    .dataframe thead th {\n",
       "        text-align: right;\n",
       "    }\n",
       "</style>\n",
       "<table border=\"1\" class=\"dataframe\">\n",
       "  <thead>\n",
       "    <tr style=\"text-align: right;\">\n",
       "      <th></th>\n",
       "      <th>year</th>\n",
       "      <th>incidents</th>\n",
       "      <th>deaths</th>\n",
       "    </tr>\n",
       "  </thead>\n",
       "  <tbody>\n",
       "    <tr>\n",
       "      <th>0</th>\n",
       "      <td>1990</td>\n",
       "      <td>1625524.87</td>\n",
       "      <td>43500</td>\n",
       "    </tr>\n",
       "    <tr>\n",
       "      <th>1</th>\n",
       "      <td>1991</td>\n",
       "      <td>1697072.08</td>\n",
       "      <td>43800</td>\n",
       "    </tr>\n",
       "  </tbody>\n",
       "</table>\n",
       "</div>"
      ],
      "text/plain": [
       "   year   incidents  deaths\n",
       "0  1990  1625524.87   43500\n",
       "1  1991  1697072.08   43800"
      ]
     },
     "execution_count": 18,
     "metadata": {},
     "output_type": "execute_result"
    }
   ],
   "source": [
    "# Data Engineering for d3 Chart\n",
    "# Read in CSV File\n",
    "df_d3=pd.read_csv('db/usa_rates.csv', dtype={'Zip': 'str'})\n",
    "df_d3.head(2)"
   ]
  },
  {
   "cell_type": "code",
   "execution_count": null,
   "metadata": {},
   "outputs": [],
   "source": []
  },
  {
   "cell_type": "code",
   "execution_count": 19,
   "metadata": {},
   "outputs": [],
   "source": [
    "# Creating a Class & table \n",
    "class Trend(Base):\n",
    "    __tablename__ = 'trend'\n",
    "    id = Column(Integer, primary_key=True)\n",
    "    year = Column(Float)\n",
    "    incidents = Column(Float)\n",
    "    deaths = Column(Float)"
   ]
  },
  {
   "cell_type": "code",
   "execution_count": 21,
   "metadata": {},
   "outputs": [],
   "source": [
    "# Transferring the data from dataframe to the sqlite db\n",
    "df_d3.to_sql(name='trend', con=conn, if_exists='replace', index=False)"
   ]
  },
  {
   "cell_type": "code",
   "execution_count": 25,
   "metadata": {},
   "outputs": [
    {
     "data": {
      "text/plain": [
       "['d3_table', 'states_percentage_table', 'trend']"
      ]
     },
     "execution_count": 25,
     "metadata": {},
     "output_type": "execute_result"
    }
   ],
   "source": [
    "# Inspecting the Table to make sure the table is there\n",
    "inspector = inspect(engine)\n",
    "inspector.get_table_names()"
   ]
  },
  {
   "cell_type": "code",
   "execution_count": 24,
   "metadata": {},
   "outputs": [
    {
     "data": {
      "text/plain": [
       "[(1990, 1625524.87, 43500),\n",
       " (1991, 1697072.08, 43800),\n",
       " (1992, 1763082.42, 44000),\n",
       " (1993, 1827096.92, 44600),\n",
       " (1994, 1875580.7, 44900),\n",
       " (1995, 1915769.55, 45100),\n",
       " (1996, 1937757.11, 44700),\n",
       " (1997, 1949758.44, 44100),\n",
       " (1998, 1956063.33, 43900),\n",
       " (1999, 1963266.09, 43800),\n",
       " (2000, 1976208.22, 43800),\n",
       " (2001, 1990702.93, 43900),\n",
       " (2002, 2000845.49, 43900),\n",
       " (2003, 2010417.97, 43800),\n",
       " (2004, 2017281.06, 43500),\n",
       " (2005, 2034279.72, 43200),\n",
       " (2006, 2046374.24, 42900),\n",
       " (2007, 2055840.48, 42800),\n",
       " (2008, 2067915.64, 43100),\n",
       " (2009, 2083667.48, 43500)]"
      ]
     },
     "execution_count": 24,
     "metadata": {},
     "output_type": "execute_result"
    }
   ],
   "source": [
    "# Check the data\n",
    "engine.execute('SELECT * FROM trend LIMIT 20').fetchall()"
   ]
  },
  {
   "cell_type": "code",
   "execution_count": null,
   "metadata": {},
   "outputs": [],
   "source": []
  }
 ],
 "metadata": {
  "kernelspec": {
   "display_name": "Python 3",
   "language": "python",
   "name": "python3"
  },
  "language_info": {
   "codemirror_mode": {
    "name": "ipython",
    "version": 3
   },
   "file_extension": ".py",
   "mimetype": "text/x-python",
   "name": "python",
   "nbconvert_exporter": "python",
   "pygments_lexer": "ipython3",
   "version": "3.7.2"
  }
 },
 "nbformat": 4,
 "nbformat_minor": 2
}
